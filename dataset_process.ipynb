{
 "cells": [
  {
   "cell_type": "code",
   "execution_count": 3,
   "id": "39dfec06",
   "metadata": {},
   "outputs": [],
   "source": [
    "import xmltodict\n",
    "d = xmltodict.parse(open('datasets/ddi2011_bioc.xml').read())"
   ]
  },
  {
   "cell_type": "code",
   "execution_count": 10,
   "id": "bba5866f",
   "metadata": {},
   "outputs": [
    {
     "data": {
      "text/plain": [
       "OrderedDict([('id', 'DrugDDI_d469'),\n",
       "             ('passage',\n",
       "              OrderedDict([('offset', '0'),\n",
       "                           ('text',\n",
       "                            'Heparin: Since heparin is contraindicated in patients with heparin-induced thrombocytopenia, the co-administration of Argatroban and heparin is unlikely for this indication.\\nHowever, if Argatroban is to be initiated after cessation of heparin therapy, allow sufficient time for heparins effect on the aPTT to decrease prior to initiation of Argatroban therapy.\\nAspirin/Acetaminophen: Pharmacokinetic or pharmacodynamic drug-drug interactions have not been demonstrated between Argatroban and concomitantly administered aspirin (162.5 mg orally given 26 and 2 hours prior to initiation of Argatroban 1 ?g/kg/min. over 4 hours) or acetaminophen (1000 mg orally given 12, 6 and 0 hours prior to, and 6 and 12 hours subsequent to, initiation of Argatroban 1.5 ?g/kg/min. over 18 hours).\\nOral anticoagulant agents: Pharmacokinetic drug-drug interactions between Argatroban and warfarin (7.5 mg single oral dose) have not been demonstrated.\\nHowever, the concomitant use of Argatroban and warfarin (5-7.5 mg initial oral dose followed by 2.5-6 mg/day orally for 6-10 days) results in prolongation of the prothrombin time (PT) and International Normalized Ratio (INR).\\nThrombolytic agents: The safety and effectiveness of Argatroban with thrombolytic agents have not been established.\\nCo-administration: Concomitant use of Argatroban with antiplatelet agents, thrombolytics, and other anticoagulants may increase the risk of bleeding.\\nDrug-drug interactions have not been observed between Argatroban and digoxin or erythromycin.'),\n",
       "                           ('annotation',\n",
       "                            [OrderedDict([('@id', 'T6'),\n",
       "                                          ('infon',\n",
       "                                           [OrderedDict([('@key', 'file'),\n",
       "                                                         ('#text', 'ann')]),\n",
       "                                            OrderedDict([('@key', 'type'),\n",
       "                                                         ('#text', 'drug')])]),\n",
       "                                          ('location',\n",
       "                                           OrderedDict([('@offset', '186'),\n",
       "                                                        ('@length', '10')])),\n",
       "                                          ('text', 'Argatroban')]),\n",
       "                             OrderedDict([('@id', 'T7'),\n",
       "                                          ('infon',\n",
       "                                           [OrderedDict([('@key', 'file'),\n",
       "                                                         ('#text', 'ann')]),\n",
       "                                            OrderedDict([('@key', 'type'),\n",
       "                                                         ('#text', 'drug')])]),\n",
       "                                          ('location',\n",
       "                                           OrderedDict([('@offset', '278'),\n",
       "                                                        ('@length', '7')])),\n",
       "                                          ('text', 'heparin')]),\n",
       "                             OrderedDict([('@id', 'T4'),\n",
       "                                          ('infon',\n",
       "                                           [OrderedDict([('@key', 'file'),\n",
       "                                                         ('#text', 'ann')]),\n",
       "                                            OrderedDict([('@key', 'type'),\n",
       "                                                         ('#text', 'drug')])]),\n",
       "                                          ('location',\n",
       "                                           OrderedDict([('@offset', '118'),\n",
       "                                                        ('@length', '10')])),\n",
       "                                          ('text', 'Argatroban')]),\n",
       "                             OrderedDict([('@id', 'T5'),\n",
       "                                          ('infon',\n",
       "                                           [OrderedDict([('@key', 'file'),\n",
       "                                                         ('#text', 'ann')]),\n",
       "                                            OrderedDict([('@key', 'type'),\n",
       "                                                         ('#text', 'drug')])]),\n",
       "                                          ('location',\n",
       "                                           OrderedDict([('@offset', '133'),\n",
       "                                                        ('@length', '7')])),\n",
       "                                          ('text', 'heparin')]),\n",
       "                             OrderedDict([('@id', 'T29'),\n",
       "                                          ('infon',\n",
       "                                           [OrderedDict([('@key', 'file'),\n",
       "                                                         ('#text', 'ann')]),\n",
       "                                            OrderedDict([('@key', 'type'),\n",
       "                                                         ('#text', 'drug')])]),\n",
       "                                          ('location',\n",
       "                                           OrderedDict([('@offset', '1496'),\n",
       "                                                        ('@length', '7')])),\n",
       "                                          ('text', 'digoxin')]),\n",
       "                             OrderedDict([('@id', 'T28'),\n",
       "                                          ('infon',\n",
       "                                           [OrderedDict([('@key', 'file'),\n",
       "                                                         ('#text', 'ann')]),\n",
       "                                            OrderedDict([('@key', 'type'),\n",
       "                                                         ('#text', 'drug')])]),\n",
       "                                          ('location',\n",
       "                                           OrderedDict([('@offset', '1481'),\n",
       "                                                        ('@length', '10')])),\n",
       "                                          ('text', 'Argatroban')]),\n",
       "                             OrderedDict([('@id', 'T27'),\n",
       "                                          ('infon',\n",
       "                                           [OrderedDict([('@key', 'file'),\n",
       "                                                         ('#text', 'ann')]),\n",
       "                                            OrderedDict([('@key', 'type'),\n",
       "                                                         ('#text', 'drug')])]),\n",
       "                                          ('location',\n",
       "                                           OrderedDict([('@offset', '1377'),\n",
       "                                                        ('@length', '14')])),\n",
       "                                          ('text', 'anticoagulants')]),\n",
       "                             OrderedDict([('@id', 'T8'),\n",
       "                                          ('infon',\n",
       "                                           [OrderedDict([('@key', 'file'),\n",
       "                                                         ('#text', 'ann')]),\n",
       "                                            OrderedDict([('@key', 'type'),\n",
       "                                                         ('#text', 'drug')])]),\n",
       "                                          ('location',\n",
       "                                           OrderedDict([('@offset', '341'),\n",
       "                                                        ('@length', '10')])),\n",
       "                                          ('text', 'Argatroban')]),\n",
       "                             OrderedDict([('@id', 'T26'),\n",
       "                                          ('infon',\n",
       "                                           [OrderedDict([('@key', 'file'),\n",
       "                                                         ('#text', 'ann')]),\n",
       "                                            OrderedDict([('@key', 'type'),\n",
       "                                                         ('#text', 'drug')])]),\n",
       "                                          ('location',\n",
       "                                           OrderedDict([('@offset', '1352'),\n",
       "                                                        ('@length', '12')])),\n",
       "                                          ('text', 'thrombolytic')]),\n",
       "                             OrderedDict([('@id', 'T9'),\n",
       "                                          ('infon',\n",
       "                                           [OrderedDict([('@key', 'file'),\n",
       "                                                         ('#text', 'ann')]),\n",
       "                                            OrderedDict([('@key', 'type'),\n",
       "                                                         ('#text', 'drug')])]),\n",
       "                                          ('location',\n",
       "                                           OrderedDict([('@offset', '361'),\n",
       "                                                        ('@length', '7')])),\n",
       "                                          ('text', 'Aspirin')]),\n",
       "                             OrderedDict([('@id', 'T25'),\n",
       "                                          ('infon',\n",
       "                                           [OrderedDict([('@key', 'file'),\n",
       "                                                         ('#text', 'ann')]),\n",
       "                                            OrderedDict([('@key', 'type'),\n",
       "                                                         ('#text', 'drug')])]),\n",
       "                                          ('location',\n",
       "                                           OrderedDict([('@offset', '1331'),\n",
       "                                                        ('@length', '19')])),\n",
       "                                          ('text', 'antiplatelet agents')]),\n",
       "                             OrderedDict([('@id', 'T24'),\n",
       "                                          ('infon',\n",
       "                                           [OrderedDict([('@key', 'file'),\n",
       "                                                         ('#text', 'ann')]),\n",
       "                                            OrderedDict([('@key', 'type'),\n",
       "                                                         ('#text', 'drug')])]),\n",
       "                                          ('location',\n",
       "                                           OrderedDict([('@offset', '1315'),\n",
       "                                                        ('@length', '10')])),\n",
       "                                          ('text', 'Argatroban')]),\n",
       "                             OrderedDict([('@id', 'T23'),\n",
       "                                          ('infon',\n",
       "                                           [OrderedDict([('@key', 'file'),\n",
       "                                                         ('#text', 'ann')]),\n",
       "                                            OrderedDict([('@key', 'type'),\n",
       "                                                         ('#text', 'drug')])]),\n",
       "                                          ('location',\n",
       "                                           OrderedDict([('@offset', '1230'),\n",
       "                                                        ('@length', '19')])),\n",
       "                                          ('text', 'thrombolytic agents')]),\n",
       "                             OrderedDict([('@id', 'T22'),\n",
       "                                          ('infon',\n",
       "                                           [OrderedDict([('@key', 'file'),\n",
       "                                                         ('#text', 'ann')]),\n",
       "                                            OrderedDict([('@key', 'type'),\n",
       "                                                         ('#text', 'drug')])]),\n",
       "                                          ('location',\n",
       "                                           OrderedDict([('@offset', '1214'),\n",
       "                                                        ('@length', '10')])),\n",
       "                                          ('text', 'Argatroban')]),\n",
       "                             OrderedDict([('@id', 'T21'),\n",
       "                                          ('infon',\n",
       "                                           [OrderedDict([('@key', 'file'),\n",
       "                                                         ('#text', 'ann')]),\n",
       "                                            OrderedDict([('@key', 'type'),\n",
       "                                                         ('#text', 'drug')])]),\n",
       "                                          ('location',\n",
       "                                           OrderedDict([('@offset', '1161'),\n",
       "                                                        ('@length', '19')])),\n",
       "                                          ('text', 'Thrombolytic agents')]),\n",
       "                             OrderedDict([('@id', 'T20'),\n",
       "                                          ('infon',\n",
       "                                           [OrderedDict([('@key', 'file'),\n",
       "                                                         ('#text', 'ann')]),\n",
       "                                            OrderedDict([('@key', 'type'),\n",
       "                                                         ('#text', 'drug')])]),\n",
       "                                          ('location',\n",
       "                                           OrderedDict([('@offset', '982'),\n",
       "                                                        ('@length', '8')])),\n",
       "                                          ('text', 'warfarin')]),\n",
       "                             OrderedDict([('@id', 'T1'),\n",
       "                                          ('infon',\n",
       "                                           [OrderedDict([('@key', 'file'),\n",
       "                                                         ('#text', 'ann')]),\n",
       "                                            OrderedDict([('@key', 'type'),\n",
       "                                                         ('#text', 'drug')])]),\n",
       "                                          ('location',\n",
       "                                           OrderedDict([('@offset', '0'),\n",
       "                                                        ('@length', '7')])),\n",
       "                                          ('text', 'Heparin')]),\n",
       "                             OrderedDict([('@id', 'T3'),\n",
       "                                          ('infon',\n",
       "                                           [OrderedDict([('@key', 'file'),\n",
       "                                                         ('#text', 'ann')]),\n",
       "                                            OrderedDict([('@key', 'type'),\n",
       "                                                         ('#text', 'drug')])]),\n",
       "                                          ('location',\n",
       "                                           OrderedDict([('@offset', '59'),\n",
       "                                                        ('@length', '7')])),\n",
       "                                          ('text', 'heparin')]),\n",
       "                             OrderedDict([('@id', 'T2'),\n",
       "                                          ('infon',\n",
       "                                           [OrderedDict([('@key', 'file'),\n",
       "                                                         ('#text', 'ann')]),\n",
       "                                            OrderedDict([('@key', 'type'),\n",
       "                                                         ('#text', 'drug')])]),\n",
       "                                          ('location',\n",
       "                                           OrderedDict([('@offset', '15'),\n",
       "                                                        ('@length', '7')])),\n",
       "                                          ('text', 'heparin')]),\n",
       "                             OrderedDict([('@id', 'T10'),\n",
       "                                          ('infon',\n",
       "                                           [OrderedDict([('@key', 'file'),\n",
       "                                                         ('#text', 'ann')]),\n",
       "                                            OrderedDict([('@key', 'type'),\n",
       "                                                         ('#text', 'drug')])]),\n",
       "                                          ('location',\n",
       "                                           OrderedDict([('@offset', '369'),\n",
       "                                                        ('@length', '13')])),\n",
       "                                          ('text', 'Acetaminophen')]),\n",
       "                             OrderedDict([('@id', 'T11'),\n",
       "                                          ('infon',\n",
       "                                           [OrderedDict([('@key', 'file'),\n",
       "                                                         ('#text', 'ann')]),\n",
       "                                            OrderedDict([('@key', 'type'),\n",
       "                                                         ('#text', 'drug')])]),\n",
       "                                          ('location',\n",
       "                                           OrderedDict([('@offset', '477'),\n",
       "                                                        ('@length', '10')])),\n",
       "                                          ('text', 'Argatroban')]),\n",
       "                             OrderedDict([('@id', 'T12'),\n",
       "                                          ('infon',\n",
       "                                           [OrderedDict([('@key', 'file'),\n",
       "                                                         ('#text', 'ann')]),\n",
       "                                            OrderedDict([('@key', 'type'),\n",
       "                                                         ('#text', 'drug')])]),\n",
       "                                          ('location',\n",
       "                                           OrderedDict([('@offset', '519'),\n",
       "                                                        ('@length', '7')])),\n",
       "                                          ('text', 'aspirin')]),\n",
       "                             OrderedDict([('@id', 'T13'),\n",
       "                                          ('infon',\n",
       "                                           [OrderedDict([('@key', 'file'),\n",
       "                                                         ('#text', 'ann')]),\n",
       "                                            OrderedDict([('@key', 'type'),\n",
       "                                                         ('#text', 'drug')])]),\n",
       "                                          ('location',\n",
       "                                           OrderedDict([('@offset', '588'),\n",
       "                                                        ('@length', '10')])),\n",
       "                                          ('text', 'Argatroban')]),\n",
       "                             OrderedDict([('@id', 'T14'),\n",
       "                                          ('infon',\n",
       "                                           [OrderedDict([('@key', 'file'),\n",
       "                                                         ('#text', 'ann')]),\n",
       "                                            OrderedDict([('@key', 'type'),\n",
       "                                                         ('#text', 'drug')])]),\n",
       "                                          ('location',\n",
       "                                           OrderedDict([('@offset', '629'),\n",
       "                                                        ('@length', '13')])),\n",
       "                                          ('text', 'acetaminophen')]),\n",
       "                             OrderedDict([('@id', 'T15'),\n",
       "                                          ('infon',\n",
       "                                           [OrderedDict([('@key', 'file'),\n",
       "                                                         ('#text', 'ann')]),\n",
       "                                            OrderedDict([('@key', 'type'),\n",
       "                                                         ('#text', 'drug')])]),\n",
       "                                          ('location',\n",
       "                                           OrderedDict([('@offset', '741'),\n",
       "                                                        ('@length', '10')])),\n",
       "                                          ('text', 'Argatroban')]),\n",
       "                             OrderedDict([('@id', 'T16'),\n",
       "                                          ('infon',\n",
       "                                           [OrderedDict([('@key', 'file'),\n",
       "                                                         ('#text', 'ann')]),\n",
       "                                            OrderedDict([('@key', 'type'),\n",
       "                                                         ('#text', 'drug')])]),\n",
       "                                          ('location',\n",
       "                                           OrderedDict([('@offset', '788'),\n",
       "                                                        ('@length', '20')])),\n",
       "                                          ('text', 'anticoagulant agents')]),\n",
       "                             OrderedDict([('@id', 'T17'),\n",
       "                                          ('infon',\n",
       "                                           [OrderedDict([('@key', 'file'),\n",
       "                                                         ('#text', 'ann')]),\n",
       "                                            OrderedDict([('@key', 'type'),\n",
       "                                                         ('#text', 'drug')])]),\n",
       "                                          ('location',\n",
       "                                           OrderedDict([('@offset', '857'),\n",
       "                                                        ('@length', '10')])),\n",
       "                                          ('text', 'Argatroban')]),\n",
       "                             OrderedDict([('@id', 'T18'),\n",
       "                                          ('infon',\n",
       "                                           [OrderedDict([('@key', 'file'),\n",
       "                                                         ('#text', 'ann')]),\n",
       "                                            OrderedDict([('@key', 'type'),\n",
       "                                                         ('#text', 'drug')])]),\n",
       "                                          ('location',\n",
       "                                           OrderedDict([('@offset', '872'),\n",
       "                                                        ('@length', '8')])),\n",
       "                                          ('text', 'warfarin')]),\n",
       "                             OrderedDict([('@id', 'T30'),\n",
       "                                          ('infon',\n",
       "                                           [OrderedDict([('@key', 'file'),\n",
       "                                                         ('#text', 'ann')]),\n",
       "                                            OrderedDict([('@key', 'type'),\n",
       "                                                         ('#text', 'drug')])]),\n",
       "                                          ('location',\n",
       "                                           OrderedDict([('@offset', '1507'),\n",
       "                                                        ('@length', '12')])),\n",
       "                                          ('text', 'erythromycin')]),\n",
       "                             OrderedDict([('@id', 'T19'),\n",
       "                                          ('infon',\n",
       "                                           [OrderedDict([('@key', 'file'),\n",
       "                                                         ('#text', 'ann')]),\n",
       "                                            OrderedDict([('@key', 'type'),\n",
       "                                                         ('#text', 'drug')])]),\n",
       "                                          ('location',\n",
       "                                           OrderedDict([('@offset', '967'),\n",
       "                                                        ('@length', '10')])),\n",
       "                                          ('text', 'Argatroban')])]),\n",
       "                           ('relation',\n",
       "                            [OrderedDict([('@id', 'R6'),\n",
       "                                          ('infon',\n",
       "                                           [OrderedDict([('@key',\n",
       "                                                          'relation type'),\n",
       "                                                         ('#text',\n",
       "                                                          'Interaction')]),\n",
       "                                            OrderedDict([('@key', 'file'),\n",
       "                                                         ('#text', 'ann')]),\n",
       "                                            OrderedDict([('@key', 'type'),\n",
       "                                                         ('#text',\n",
       "                                                          'Relation')])]),\n",
       "                                          ('node',\n",
       "                                           [OrderedDict([('@refid', 'T24'),\n",
       "                                                         ('@role', 'Arg1')]),\n",
       "                                            OrderedDict([('@refid', 'T27'),\n",
       "                                                         ('@role',\n",
       "                                                          'Arg2')])])]),\n",
       "                             OrderedDict([('@id', 'R4'),\n",
       "                                          ('infon',\n",
       "                                           [OrderedDict([('@key',\n",
       "                                                          'relation type'),\n",
       "                                                         ('#text',\n",
       "                                                          'Interaction')]),\n",
       "                                            OrderedDict([('@key', 'file'),\n",
       "                                                         ('#text', 'ann')]),\n",
       "                                            OrderedDict([('@key', 'type'),\n",
       "                                                         ('#text',\n",
       "                                                          'Relation')])]),\n",
       "                                          ('node',\n",
       "                                           [OrderedDict([('@refid', 'T19'),\n",
       "                                                         ('@role', 'Arg1')]),\n",
       "                                            OrderedDict([('@refid', 'T20'),\n",
       "                                                         ('@role',\n",
       "                                                          'Arg2')])])]),\n",
       "                             OrderedDict([('@id', 'R5'),\n",
       "                                          ('infon',\n",
       "                                           [OrderedDict([('@key',\n",
       "                                                          'relation type'),\n",
       "                                                         ('#text',\n",
       "                                                          'Interaction')]),\n",
       "                                            OrderedDict([('@key', 'file'),\n",
       "                                                         ('#text', 'ann')]),\n",
       "                                            OrderedDict([('@key', 'type'),\n",
       "                                                         ('#text',\n",
       "                                                          'Relation')])]),\n",
       "                                          ('node',\n",
       "                                           [OrderedDict([('@refid', 'T24'),\n",
       "                                                         ('@role', 'Arg1')]),\n",
       "                                            OrderedDict([('@refid', 'T25'),\n",
       "                                                         ('@role',\n",
       "                                                          'Arg2')])])]),\n",
       "                             OrderedDict([('@id', 'R2'),\n",
       "                                          ('infon',\n",
       "                                           [OrderedDict([('@key',\n",
       "                                                          'relation type'),\n",
       "                                                         ('#text',\n",
       "                                                          'Interaction')]),\n",
       "                                            OrderedDict([('@key', 'file'),\n",
       "                                                         ('#text', 'ann')]),\n",
       "                                            OrderedDict([('@key', 'type'),\n",
       "                                                         ('#text',\n",
       "                                                          'Relation')])]),\n",
       "                                          ('node',\n",
       "                                           [OrderedDict([('@refid', 'T6'),\n",
       "                                                         ('@role', 'Arg1')]),\n",
       "                                            OrderedDict([('@refid', 'T7'),\n",
       "                                                         ('@role',\n",
       "                                                          'Arg2')])])]),\n",
       "                             OrderedDict([('@id', 'R3'),\n",
       "                                          ('infon',\n",
       "                                           [OrderedDict([('@key',\n",
       "                                                          'relation type'),\n",
       "                                                         ('#text',\n",
       "                                                          'Interaction')]),\n",
       "                                            OrderedDict([('@key', 'file'),\n",
       "                                                         ('#text', 'ann')]),\n",
       "                                            OrderedDict([('@key', 'type'),\n",
       "                                                         ('#text',\n",
       "                                                          'Relation')])]),\n",
       "                                          ('node',\n",
       "                                           [OrderedDict([('@refid', 'T11'),\n",
       "                                                         ('@role', 'Arg1')]),\n",
       "                                            OrderedDict([('@refid', 'T12'),\n",
       "                                                         ('@role',\n",
       "                                                          'Arg2')])])]),\n",
       "                             OrderedDict([('@id', 'R1'),\n",
       "                                          ('infon',\n",
       "                                           [OrderedDict([('@key',\n",
       "                                                          'relation type'),\n",
       "                                                         ('#text',\n",
       "                                                          'Interaction')]),\n",
       "                                            OrderedDict([('@key', 'file'),\n",
       "                                                         ('#text', 'ann')]),\n",
       "                                            OrderedDict([('@key', 'type'),\n",
       "                                                         ('#text',\n",
       "                                                          'Relation')])]),\n",
       "                                          ('node',\n",
       "                                           [OrderedDict([('@refid', 'T2'),\n",
       "                                                         ('@role', 'Arg1')]),\n",
       "                                            OrderedDict([('@refid', 'T4'),\n",
       "                                                         ('@role',\n",
       "                                                          'Arg2')])])])])]))])"
      ]
     },
     "execution_count": 10,
     "metadata": {},
     "output_type": "execute_result"
    }
   ],
   "source": [
    "d['collection']['document'][0]"
   ]
  },
  {
   "cell_type": "code",
   "execution_count": 11,
   "id": "29bba9a6",
   "metadata": {},
   "outputs": [
    {
     "data": {
      "text/plain": [
       "OrderedDict([('id', 'DrugDDI_d38'),\n",
       "             ('passage',\n",
       "              OrderedDict([('offset', '0'),\n",
       "                           ('text',\n",
       "                            'Interactions for Vitamin B3 (Niacin): Antihypertensive Therapy: Nicotinic acid may potentiate the effects of ganglionic blocking agents and vasoactive drugs resulting in postural hypotension.\\nAspirin: Concomitant aspirin may decrease the metabolic clearance of nicotinic acid.\\nThe clinical relevance of this finding is unclear.\\nOther: Concomitant alcohol or hot drinks may increase the side effects of flushing and pruritus and should be avoided at the time of drug ingestion.'),\n",
       "                           ('annotation',\n",
       "                            [OrderedDict([('@id', 'T6'),\n",
       "                                          ('infon',\n",
       "                                           [OrderedDict([('@key', 'file'),\n",
       "                                                         ('#text', 'ann')]),\n",
       "                                            OrderedDict([('@key', 'type'),\n",
       "                                                         ('#text', 'drug')])]),\n",
       "                                          ('location',\n",
       "                                           OrderedDict([('@offset', '192'),\n",
       "                                                        ('@length', '7')])),\n",
       "                                          ('text', 'Aspirin')]),\n",
       "                             OrderedDict([('@id', 'T7'),\n",
       "                                          ('infon',\n",
       "                                           [OrderedDict([('@key', 'file'),\n",
       "                                                         ('#text', 'ann')]),\n",
       "                                            OrderedDict([('@key', 'type'),\n",
       "                                                         ('#text', 'drug')])]),\n",
       "                                          ('location',\n",
       "                                           OrderedDict([('@offset', '213'),\n",
       "                                                        ('@length', '7')])),\n",
       "                                          ('text', 'aspirin')]),\n",
       "                             OrderedDict([('@id', 'T4'),\n",
       "                                          ('infon',\n",
       "                                           [OrderedDict([('@key', 'file'),\n",
       "                                                         ('#text', 'ann')]),\n",
       "                                            OrderedDict([('@key', 'type'),\n",
       "                                                         ('#text', 'drug')])]),\n",
       "                                          ('location',\n",
       "                                           OrderedDict([('@offset', '109'),\n",
       "                                                        ('@length', '26')])),\n",
       "                                          ('text',\n",
       "                                           'ganglionic blocking agents')]),\n",
       "                             OrderedDict([('@id', 'T5'),\n",
       "                                          ('infon',\n",
       "                                           [OrderedDict([('@key', 'file'),\n",
       "                                                         ('#text', 'ann')]),\n",
       "                                            OrderedDict([('@key', 'type'),\n",
       "                                                         ('#text', 'drug')])]),\n",
       "                                          ('location',\n",
       "                                           OrderedDict([('@offset', '151'),\n",
       "                                                        ('@length', '5')])),\n",
       "                                          ('text', 'drugs')]),\n",
       "                             OrderedDict([('@id', 'T8'),\n",
       "                                          ('infon',\n",
       "                                           [OrderedDict([('@key', 'file'),\n",
       "                                                         ('#text', 'ann')]),\n",
       "                                            OrderedDict([('@key', 'type'),\n",
       "                                                         ('#text', 'drug')])]),\n",
       "                                          ('location',\n",
       "                                           OrderedDict([('@offset', '261'),\n",
       "                                                        ('@length', '14')])),\n",
       "                                          ('text', 'nicotinic acid')]),\n",
       "                             OrderedDict([('@id', 'T9'),\n",
       "                                          ('infon',\n",
       "                                           [OrderedDict([('@key', 'file'),\n",
       "                                                         ('#text', 'ann')]),\n",
       "                                            OrderedDict([('@key', 'type'),\n",
       "                                                         ('#text', 'drug')])]),\n",
       "                                          ('location',\n",
       "                                           OrderedDict([('@offset', '347'),\n",
       "                                                        ('@length', '7')])),\n",
       "                                          ('text', 'alcohol')]),\n",
       "                             OrderedDict([('@id', 'T1'),\n",
       "                                          ('infon',\n",
       "                                           [OrderedDict([('@key', 'file'),\n",
       "                                                         ('#text', 'ann')]),\n",
       "                                            OrderedDict([('@key', 'type'),\n",
       "                                                         ('#text', 'drug')])]),\n",
       "                                          ('location',\n",
       "                                           OrderedDict([('@offset', '17'),\n",
       "                                                        ('@length', '10')])),\n",
       "                                          ('text', 'Vitamin B3')]),\n",
       "                             OrderedDict([('@id', 'T3'),\n",
       "                                          ('infon',\n",
       "                                           [OrderedDict([('@key', 'file'),\n",
       "                                                         ('#text', 'ann')]),\n",
       "                                            OrderedDict([('@key', 'type'),\n",
       "                                                         ('#text', 'drug')])]),\n",
       "                                          ('location',\n",
       "                                           OrderedDict([('@offset', '64'),\n",
       "                                                        ('@length', '14')])),\n",
       "                                          ('text', 'Nicotinic acid')]),\n",
       "                             OrderedDict([('@id', 'T2'),\n",
       "                                          ('infon',\n",
       "                                           [OrderedDict([('@key', 'file'),\n",
       "                                                         ('#text', 'ann')]),\n",
       "                                            OrderedDict([('@key', 'type'),\n",
       "                                                         ('#text', 'drug')])]),\n",
       "                                          ('location',\n",
       "                                           OrderedDict([('@offset', '29'),\n",
       "                                                        ('@length', '6')])),\n",
       "                                          ('text', 'Niacin')])]),\n",
       "                           ('relation',\n",
       "                            [OrderedDict([('@id', 'R2'),\n",
       "                                          ('infon',\n",
       "                                           [OrderedDict([('@key',\n",
       "                                                          'relation type'),\n",
       "                                                         ('#text',\n",
       "                                                          'Interaction')]),\n",
       "                                            OrderedDict([('@key', 'file'),\n",
       "                                                         ('#text', 'ann')]),\n",
       "                                            OrderedDict([('@key', 'type'),\n",
       "                                                         ('#text',\n",
       "                                                          'Relation')])]),\n",
       "                                          ('node',\n",
       "                                           [OrderedDict([('@refid', 'T7'),\n",
       "                                                         ('@role', 'Arg1')]),\n",
       "                                            OrderedDict([('@refid', 'T8'),\n",
       "                                                         ('@role',\n",
       "                                                          'Arg2')])])]),\n",
       "                             OrderedDict([('@id', 'R1'),\n",
       "                                          ('infon',\n",
       "                                           [OrderedDict([('@key',\n",
       "                                                          'relation type'),\n",
       "                                                         ('#text',\n",
       "                                                          'Interaction')]),\n",
       "                                            OrderedDict([('@key', 'file'),\n",
       "                                                         ('#text', 'ann')]),\n",
       "                                            OrderedDict([('@key', 'type'),\n",
       "                                                         ('#text',\n",
       "                                                          'Relation')])]),\n",
       "                                          ('node',\n",
       "                                           [OrderedDict([('@refid', 'T3'),\n",
       "                                                         ('@role', 'Arg1')]),\n",
       "                                            OrderedDict([('@refid', 'T4'),\n",
       "                                                         ('@role',\n",
       "                                                          'Arg2')])])])])]))])"
      ]
     },
     "execution_count": 11,
     "metadata": {},
     "output_type": "execute_result"
    }
   ],
   "source": [
    "d['collection']['document'][1]"
   ]
  },
  {
   "cell_type": "code",
   "execution_count": 12,
   "id": "fd5ef0d9",
   "metadata": {},
   "outputs": [
    {
     "data": {
      "text/plain": [
       "435"
      ]
     },
     "execution_count": 12,
     "metadata": {},
     "output_type": "execute_result"
    }
   ],
   "source": [
    "len(d['collection']['document'])"
   ]
  },
  {
   "cell_type": "code",
   "execution_count": 17,
   "id": "5535a558",
   "metadata": {},
   "outputs": [
    {
     "data": {
      "text/plain": [
       "'Interactions for Vitamin B3 (Niacin): Antihypertensive Therapy: Nicotinic acid may potentiate the effects of ganglionic blocking agents and vasoactive drugs resulting in postural hypotension.\\nAspirin: Concomitant aspirin may decrease the metabolic clearance of nicotinic acid.\\nThe clinical relevance of this finding is unclear.\\nOther: Concomitant alcohol or hot drinks may increase the side effects of flushing and pruritus and should be avoided at the time of drug ingestion.'"
      ]
     },
     "execution_count": 17,
     "metadata": {},
     "output_type": "execute_result"
    }
   ],
   "source": [
    "d['collection']['document'][1]['passage']['text']"
   ]
  },
  {
   "cell_type": "code",
   "execution_count": 18,
   "id": "5f6f6c15",
   "metadata": {},
   "outputs": [
    {
     "data": {
      "text/plain": [
       "[OrderedDict([('@id', 'T6'),\n",
       "              ('infon',\n",
       "               [OrderedDict([('@key', 'file'), ('#text', 'ann')]),\n",
       "                OrderedDict([('@key', 'type'), ('#text', 'drug')])]),\n",
       "              ('location',\n",
       "               OrderedDict([('@offset', '192'), ('@length', '7')])),\n",
       "              ('text', 'Aspirin')]),\n",
       " OrderedDict([('@id', 'T7'),\n",
       "              ('infon',\n",
       "               [OrderedDict([('@key', 'file'), ('#text', 'ann')]),\n",
       "                OrderedDict([('@key', 'type'), ('#text', 'drug')])]),\n",
       "              ('location',\n",
       "               OrderedDict([('@offset', '213'), ('@length', '7')])),\n",
       "              ('text', 'aspirin')]),\n",
       " OrderedDict([('@id', 'T4'),\n",
       "              ('infon',\n",
       "               [OrderedDict([('@key', 'file'), ('#text', 'ann')]),\n",
       "                OrderedDict([('@key', 'type'), ('#text', 'drug')])]),\n",
       "              ('location',\n",
       "               OrderedDict([('@offset', '109'), ('@length', '26')])),\n",
       "              ('text', 'ganglionic blocking agents')]),\n",
       " OrderedDict([('@id', 'T5'),\n",
       "              ('infon',\n",
       "               [OrderedDict([('@key', 'file'), ('#text', 'ann')]),\n",
       "                OrderedDict([('@key', 'type'), ('#text', 'drug')])]),\n",
       "              ('location',\n",
       "               OrderedDict([('@offset', '151'), ('@length', '5')])),\n",
       "              ('text', 'drugs')]),\n",
       " OrderedDict([('@id', 'T8'),\n",
       "              ('infon',\n",
       "               [OrderedDict([('@key', 'file'), ('#text', 'ann')]),\n",
       "                OrderedDict([('@key', 'type'), ('#text', 'drug')])]),\n",
       "              ('location',\n",
       "               OrderedDict([('@offset', '261'), ('@length', '14')])),\n",
       "              ('text', 'nicotinic acid')]),\n",
       " OrderedDict([('@id', 'T9'),\n",
       "              ('infon',\n",
       "               [OrderedDict([('@key', 'file'), ('#text', 'ann')]),\n",
       "                OrderedDict([('@key', 'type'), ('#text', 'drug')])]),\n",
       "              ('location',\n",
       "               OrderedDict([('@offset', '347'), ('@length', '7')])),\n",
       "              ('text', 'alcohol')]),\n",
       " OrderedDict([('@id', 'T1'),\n",
       "              ('infon',\n",
       "               [OrderedDict([('@key', 'file'), ('#text', 'ann')]),\n",
       "                OrderedDict([('@key', 'type'), ('#text', 'drug')])]),\n",
       "              ('location',\n",
       "               OrderedDict([('@offset', '17'), ('@length', '10')])),\n",
       "              ('text', 'Vitamin B3')]),\n",
       " OrderedDict([('@id', 'T3'),\n",
       "              ('infon',\n",
       "               [OrderedDict([('@key', 'file'), ('#text', 'ann')]),\n",
       "                OrderedDict([('@key', 'type'), ('#text', 'drug')])]),\n",
       "              ('location',\n",
       "               OrderedDict([('@offset', '64'), ('@length', '14')])),\n",
       "              ('text', 'Nicotinic acid')]),\n",
       " OrderedDict([('@id', 'T2'),\n",
       "              ('infon',\n",
       "               [OrderedDict([('@key', 'file'), ('#text', 'ann')]),\n",
       "                OrderedDict([('@key', 'type'), ('#text', 'drug')])]),\n",
       "              ('location', OrderedDict([('@offset', '29'), ('@length', '6')])),\n",
       "              ('text', 'Niacin')])]"
      ]
     },
     "execution_count": 18,
     "metadata": {},
     "output_type": "execute_result"
    }
   ],
   "source": [
    "d['collection']['document'][1]['passage']['annotation']"
   ]
  },
  {
   "cell_type": "code",
   "execution_count": 30,
   "id": "f88d172a",
   "metadata": {},
   "outputs": [],
   "source": [
    "d_s = 'Interactions for Vitamin B3 (Niacin): Antihypertensive Therapy: Nicotinic acid may potentiate the effects of ganglionic blocking agents and vasoactive drugs resulting in postural hypotension.\\nAspirin: Concomitant aspirin may decrease the metabolic clearance of nicotinic acid.\\nThe clinical relevance of this finding is unclear.\\nOther: Concomitant alcohol or hot drinks may increase the side effects of flushing and pruritus and should be avoided at the time of drug ingestion.'"
   ]
  },
  {
   "cell_type": "code",
   "execution_count": 32,
   "id": "0ca54451",
   "metadata": {},
   "outputs": [
    {
     "data": {
      "text/plain": [
       "'Aspirin'"
      ]
     },
     "execution_count": 32,
     "metadata": {},
     "output_type": "execute_result"
    }
   ],
   "source": [
    "d_s[192:192+7]"
   ]
  },
  {
   "cell_type": "code",
   "execution_count": 20,
   "id": "91655feb",
   "metadata": {},
   "outputs": [
    {
     "data": {
      "text/plain": [
       "OrderedDict([('@id', 'T6'),\n",
       "             ('infon',\n",
       "              [OrderedDict([('@key', 'file'), ('#text', 'ann')]),\n",
       "               OrderedDict([('@key', 'type'), ('#text', 'drug')])]),\n",
       "             ('location', OrderedDict([('@offset', '192'), ('@length', '7')])),\n",
       "             ('text', 'Aspirin')])"
      ]
     },
     "execution_count": 20,
     "metadata": {},
     "output_type": "execute_result"
    }
   ],
   "source": [
    "d['collection']['document'][1]['passage']['annotation'][0]"
   ]
  },
  {
   "cell_type": "code",
   "execution_count": 22,
   "id": "32c71e58",
   "metadata": {
    "scrolled": true
   },
   "outputs": [
    {
     "data": {
      "text/plain": [
       "'Aspirin'"
      ]
     },
     "execution_count": 22,
     "metadata": {},
     "output_type": "execute_result"
    }
   ],
   "source": [
    "d['collection']['document'][1]['passage']['annotation'][0]['text']"
   ]
  },
  {
   "cell_type": "code",
   "execution_count": 24,
   "id": "2a271a74",
   "metadata": {},
   "outputs": [
    {
     "data": {
      "text/plain": [
       "'T6'"
      ]
     },
     "execution_count": 24,
     "metadata": {},
     "output_type": "execute_result"
    }
   ],
   "source": [
    "d['collection']['document'][1]['passage']['annotation'][0]['@id']"
   ]
  },
  {
   "cell_type": "code",
   "execution_count": 19,
   "id": "e4d3117f",
   "metadata": {},
   "outputs": [
    {
     "data": {
      "text/plain": [
       "[OrderedDict([('@id', 'R2'),\n",
       "              ('infon',\n",
       "               [OrderedDict([('@key', 'relation type'),\n",
       "                             ('#text', 'Interaction')]),\n",
       "                OrderedDict([('@key', 'file'), ('#text', 'ann')]),\n",
       "                OrderedDict([('@key', 'type'), ('#text', 'Relation')])]),\n",
       "              ('node',\n",
       "               [OrderedDict([('@refid', 'T7'), ('@role', 'Arg1')]),\n",
       "                OrderedDict([('@refid', 'T8'), ('@role', 'Arg2')])])]),\n",
       " OrderedDict([('@id', 'R1'),\n",
       "              ('infon',\n",
       "               [OrderedDict([('@key', 'relation type'),\n",
       "                             ('#text', 'Interaction')]),\n",
       "                OrderedDict([('@key', 'file'), ('#text', 'ann')]),\n",
       "                OrderedDict([('@key', 'type'), ('#text', 'Relation')])]),\n",
       "              ('node',\n",
       "               [OrderedDict([('@refid', 'T3'), ('@role', 'Arg1')]),\n",
       "                OrderedDict([('@refid', 'T4'), ('@role', 'Arg2')])])])]"
      ]
     },
     "execution_count": 19,
     "metadata": {},
     "output_type": "execute_result"
    }
   ],
   "source": [
    "d['collection']['document'][1]['passage']['relation']"
   ]
  },
  {
   "cell_type": "code",
   "execution_count": 25,
   "id": "44f0e7e3",
   "metadata": {},
   "outputs": [
    {
     "data": {
      "text/plain": [
       "OrderedDict([('@id', 'R2'),\n",
       "             ('infon',\n",
       "              [OrderedDict([('@key', 'relation type'),\n",
       "                            ('#text', 'Interaction')]),\n",
       "               OrderedDict([('@key', 'file'), ('#text', 'ann')]),\n",
       "               OrderedDict([('@key', 'type'), ('#text', 'Relation')])]),\n",
       "             ('node',\n",
       "              [OrderedDict([('@refid', 'T7'), ('@role', 'Arg1')]),\n",
       "               OrderedDict([('@refid', 'T8'), ('@role', 'Arg2')])])])"
      ]
     },
     "execution_count": 25,
     "metadata": {},
     "output_type": "execute_result"
    }
   ],
   "source": [
    "d['collection']['document'][1]['passage']['relation'][0]"
   ]
  },
  {
   "cell_type": "code",
   "execution_count": 26,
   "id": "861654cf",
   "metadata": {},
   "outputs": [
    {
     "data": {
      "text/plain": [
       "[OrderedDict([('@refid', 'T7'), ('@role', 'Arg1')]),\n",
       " OrderedDict([('@refid', 'T8'), ('@role', 'Arg2')])]"
      ]
     },
     "execution_count": 26,
     "metadata": {},
     "output_type": "execute_result"
    }
   ],
   "source": [
    "d['collection']['document'][1]['passage']['relation'][0]['node']"
   ]
  },
  {
   "cell_type": "code",
   "execution_count": 27,
   "id": "eeabc8e5",
   "metadata": {},
   "outputs": [
    {
     "data": {
      "text/plain": [
       "'T7'"
      ]
     },
     "execution_count": 27,
     "metadata": {},
     "output_type": "execute_result"
    }
   ],
   "source": [
    "d['collection']['document'][1]['passage']['relation'][0]['node'][0]['@refid']"
   ]
  },
  {
   "cell_type": "code",
   "execution_count": 28,
   "id": "46f3d62e",
   "metadata": {},
   "outputs": [
    {
     "data": {
      "text/plain": [
       "'T8'"
      ]
     },
     "execution_count": 28,
     "metadata": {},
     "output_type": "execute_result"
    }
   ],
   "source": [
    "d['collection']['document'][1]['passage']['relation'][0]['node'][1]['@refid']"
   ]
  },
  {
   "cell_type": "code",
   "execution_count": 33,
   "id": "6862dd89",
   "metadata": {},
   "outputs": [],
   "source": [
    "# create a simplified dataset\n",
    "# {sentence, [drug_id, drug_text, start, end]}"
   ]
  },
  {
   "cell_type": "code",
   "execution_count": 97,
   "id": "a1d8841c",
   "metadata": {},
   "outputs": [],
   "source": [
    "# dataset 1 (for classification)\n",
    "import string\n",
    "\n",
    "sentences = []\n",
    "labels = []\n",
    "for dp in d['collection']['document']:\n",
    "    try:\n",
    "        par = dp['passage']['text']\n",
    "        sens = par.split(\".\")\n",
    "        drugs = [dp['passage']['annotation'][i]['text'] for i in range(len(dp['passage']['annotation']))]\n",
    "        drug_ids = [dp['passage']['annotation'][i]['@id'] for i in range(len(dp['passage']['annotation']))]\n",
    "        #print(sens)\n",
    "        #print(drugs)\n",
    "        #print(drug_ids)\n",
    "        rels = [( drugs[drug_ids.index(dp['passage']['relation'][i]['node'][0]['@refid'])], drugs[drug_ids.index(dp['passage']['relation'][i]['node'][1]['@refid'])]) for i in range(len(dp['passage']['relation']))]  \n",
    "        #print(rels)\n",
    "\n",
    "        for s in sens:\n",
    "            s = s.replace('\\n', '').translate(str.maketrans('', '', string.punctuation))\n",
    "            n_dr = 0\n",
    "            for dr in drugs:\n",
    "                if dr in s:\n",
    "                    n_dr += 1\n",
    "            if n_dr >= 2:\n",
    "                k = 0\n",
    "                for dr in drugs:\n",
    "                    if dr in s and len(dr) > 2 and ('e1>' not in dr and 'e2>' not in dr):\n",
    "                        if k == 0:\n",
    "                            s = s.replace(dr, f\"<e1>{dr}</e1>\")\n",
    "                            k += 1\n",
    "                        elif k == 1:\n",
    "                            s = s.replace(dr, f\"<e2>{dr}</e2>\")\n",
    "                            break\n",
    "            \n",
    "            s = s.replace('<e1><e2>', '')\n",
    "            s = s.replace('</e1></e2>', '')\n",
    "            s = s.replace('</e2></e1>', '')\n",
    "            \n",
    "                        \n",
    "            r_found = 0\n",
    "            for r in rels:\n",
    "                drg1 = r[0]\n",
    "                drg2 = r[1]\n",
    "                if drg1 in s and drg2 in s:\n",
    "                    # an interaction\n",
    "                    labels.append('positive')\n",
    "                    r_found = 1\n",
    "                    break\n",
    "            if r_found == 0:\n",
    "                labels.append('negative')\n",
    "\n",
    "            sentences.append(s)\n",
    "    except:\n",
    "        pass\n",
    "\n",
    "    # break"
   ]
  },
  {
   "cell_type": "code",
   "execution_count": 110,
   "id": "5f864ea0",
   "metadata": {},
   "outputs": [
    {
     "name": "stdout",
     "output_type": "stream",
     "text": [
      "['Heparin Since <e2>heparin</e2> is contraindicated in patients with <e2>heparin</e2>induced thrombocytopenia the coadministration of <e1>Argatroban</e1> and <e2>heparin</e2> is unlikely for this indication', 'However if <e1>Argatroban</e1> is to be initiated after cessation of <e2>heparin</e2> therapy allow sufficient time for <e2>heparin</e2>s effect on the aPTT to decrease prior to initiation of <e1>Argatroban</e1> therapy', 'AspirinAcetaminophen Pharmacokinetic or pharmacodynamic drugdrug interactions have not been demonstrated between Argatroban and concomitantly administered aspirin 162']\n",
      "['positive', 'positive', 'positive']\n"
     ]
    }
   ],
   "source": [
    "print(sentences[:3])\n",
    "print(labels[:3])"
   ]
  },
  {
   "cell_type": "code",
   "execution_count": 99,
   "id": "96fa4f76",
   "metadata": {},
   "outputs": [
    {
     "name": "stdout",
     "output_type": "stream",
     "text": [
      "3909\n"
     ]
    }
   ],
   "source": [
    "print(len(sentences))"
   ]
  },
  {
   "cell_type": "code",
   "execution_count": 100,
   "id": "7c16ded2",
   "metadata": {},
   "outputs": [
    {
     "name": "stdout",
     "output_type": "stream",
     "text": [
      "3909\n"
     ]
    }
   ],
   "source": [
    "print(len(labels))"
   ]
  },
  {
   "cell_type": "code",
   "execution_count": 107,
   "id": "bdf26769",
   "metadata": {},
   "outputs": [],
   "source": [
    "import csv\n",
    "import string\n",
    "with open('train.tsv', 'wt') as out_file:\n",
    "    tsv_writer = csv.writer(out_file, delimiter='\\t')\n",
    "    for i in range(int(0.8 * len(sentences))):\n",
    "        if len(str(sentences[i]).strip()) >= 30:\n",
    "            tsv_writer.writerow([str(labels[i]), \"is a \" + str(sentences[i]).strip() ])"
   ]
  },
  {
   "cell_type": "code",
   "execution_count": 108,
   "id": "109dd5a5",
   "metadata": {},
   "outputs": [],
   "source": [
    "with open('test.tsv', 'wt') as out_file:\n",
    "    tsv_writer = csv.writer(out_file, delimiter='\\t')\n",
    "    for i in range(int(0.8 * len(sentences)), int(len(sentences))):\n",
    "        if len(str(sentences[i]).strip()) >= 30:\n",
    "            tsv_writer.writerow([str(labels[i]), \"is a \" + str(sentences[i]).strip() ])"
   ]
  },
  {
   "cell_type": "code",
   "execution_count": 76,
   "id": "38fb8c3b",
   "metadata": {},
   "outputs": [
    {
     "data": {
      "text/plain": [
       "3127"
      ]
     },
     "execution_count": 76,
     "metadata": {},
     "output_type": "execute_result"
    }
   ],
   "source": [
    "int(0.8 * len(sentences))"
   ]
  },
  {
   "cell_type": "code",
   "execution_count": 79,
   "id": "eff912eb",
   "metadata": {},
   "outputs": [
    {
     "data": {
      "text/plain": [
       "''"
      ]
     },
     "execution_count": 79,
     "metadata": {},
     "output_type": "execute_result"
    }
   ],
   "source": [
    "sentences[3128]"
   ]
  },
  {
   "cell_type": "code",
   "execution_count": null,
   "id": "342ed15a",
   "metadata": {},
   "outputs": [],
   "source": []
  }
 ],
 "metadata": {
  "kernelspec": {
   "display_name": "Python 3 (ipykernel)",
   "language": "python",
   "name": "python3"
  },
  "language_info": {
   "codemirror_mode": {
    "name": "ipython",
    "version": 3
   },
   "file_extension": ".py",
   "mimetype": "text/x-python",
   "name": "python",
   "nbconvert_exporter": "python",
   "pygments_lexer": "ipython3",
   "version": "3.7.5"
  }
 },
 "nbformat": 4,
 "nbformat_minor": 5
}
